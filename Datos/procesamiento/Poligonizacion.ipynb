{
 "cells": [
  {
   "cell_type": "code",
   "execution_count": 1,
   "metadata": {},
   "outputs": [],
   "source": [
    "import geopandas as gpd\n",
    "from shapely.geometry import Point\n",
    "import matplotlib.pyplot as plt\n",
    "import numpy as np\n",
    "from math import pi\n",
    "data = gpd.read_file(\"datos\\permisos_de_edificacion_2010_2021.shp\")"
   ]
  },
  {
   "cell_type": "code",
   "execution_count": 79,
   "metadata": {},
   "outputs": [],
   "source": [
    "area_planta = data[\"SUPERFICIE\"] /  data[\"NUM_PISOS\"]\n",
    "buffer_list = np.sqrt(area_planta)/2 # Mitad del largo del cuadrado\n",
    "squares = data[\"geometry\"].buffer(buffer_list, cap_style = 3)"
   ]
  },
  {
   "cell_type": "markdown",
   "metadata": {},
   "source": [
    "Verifico que el área calza"
   ]
  },
  {
   "cell_type": "code",
   "execution_count": 96,
   "metadata": {},
   "outputs": [
    {
     "data": {
      "text/plain": [
       "0         2504.000000\n",
       "1           80.000000\n",
       "2         1059.944444\n",
       "3          268.000000\n",
       "4          142.200000\n",
       "             ...     \n",
       "126563     140.000000\n",
       "126564      92.000000\n",
       "126565     181.000000\n",
       "126566      48.000000\n",
       "126567      90.000000\n",
       "Length: 126568, dtype: float64"
      ]
     },
     "execution_count": 96,
     "metadata": {},
     "output_type": "execute_result"
    }
   ],
   "source": [
    "check_areas = squares.apply(lambda x: x.area)\n",
    "check_areas"
   ]
  },
  {
   "cell_type": "markdown",
   "metadata": {},
   "source": [
    "Reemplazo la geometría"
   ]
  },
  {
   "cell_type": "code",
   "execution_count": 90,
   "metadata": {},
   "outputs": [],
   "source": [
    "datos_de_salida = data.copy()\n",
    "datos_de_salida[\"geometry\"] = squares"
   ]
  },
  {
   "cell_type": "code",
   "execution_count": 91,
   "metadata": {},
   "outputs": [],
   "source": [
    "datos_de_salida.to_file('datos/permisos_de_edificacion_2010_2021_SQUARE_POLYGON.shp', encoding='utf-8')  "
   ]
  }
 ],
 "metadata": {
  "kernelspec": {
   "display_name": "Python 3.8.0 ('.crecimiento_urbano': venv)",
   "language": "python",
   "name": "python3"
  },
  "language_info": {
   "codemirror_mode": {
    "name": "ipython",
    "version": 3
   },
   "file_extension": ".py",
   "mimetype": "text/x-python",
   "name": "python",
   "nbconvert_exporter": "python",
   "pygments_lexer": "ipython3",
   "version": "3.8.0"
  },
  "orig_nbformat": 4,
  "vscode": {
   "interpreter": {
    "hash": "b61bbcc47f00e17c7a2dd3c429f0d11af545f56cad2c7eb17f7320556895e27d"
   }
  }
 },
 "nbformat": 4,
 "nbformat_minor": 2
}
